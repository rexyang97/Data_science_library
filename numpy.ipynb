{
 "cells": [
  {
   "cell_type": "code",
   "execution_count": 2,
   "metadata": {},
   "outputs": [],
   "source": [
    "import numpy as np"
   ]
  },
  {
   "cell_type": "code",
   "execution_count": 4,
   "metadata": {},
   "outputs": [
    {
     "name": "stdout",
     "output_type": "stream",
     "text": [
      "[1 2 3]\n",
      "<class 'numpy.ndarray'>\n"
     ]
    }
   ],
   "source": [
    "a=np.array([1,2,3,])\n",
    "print(a)\n",
    "print(type(a))"
   ]
  },
  {
   "cell_type": "code",
   "execution_count": 5,
   "metadata": {},
   "outputs": [
    {
     "name": "stdout",
     "output_type": "stream",
     "text": [
      "[0 1 2 3 4]\n",
      "<class 'numpy.ndarray'>\n"
     ]
    }
   ],
   "source": [
    "b=np.array(range(5))\n",
    "print(b)\n",
    "print(type(b))"
   ]
  },
  {
   "cell_type": "code",
   "execution_count": 7,
   "metadata": {},
   "outputs": [
    {
     "name": "stdout",
     "output_type": "stream",
     "text": [
      "[ 3  6  9 12 15]\n",
      "<class 'numpy.ndarray'>\n",
      "int32\n"
     ]
    }
   ],
   "source": [
    "c=np.arange(3,18,3)\n",
    "print(c)\n",
    "print(type(c))\n",
    "print(c.dtype)"
   ]
  },
  {
   "cell_type": "code",
   "execution_count": 8,
   "metadata": {},
   "outputs": [
    {
     "name": "stdout",
     "output_type": "stream",
     "text": [
      "[ 3.  6.  9. 12. 15.]\n",
      "<class 'numpy.ndarray'>\n",
      "float64\n"
     ]
    }
   ],
   "source": [
    "d=np.arange(3,18,3,dtype=float)\n",
    "print(d)\n",
    "print(type(d))\n",
    "print(d.dtype)"
   ]
  },
  {
   "cell_type": "code",
   "execution_count": 11,
   "metadata": {},
   "outputs": [
    {
     "name": "stdout",
     "output_type": "stream",
     "text": [
      "[ 3  6  9 12 15]\n",
      "<class 'numpy.ndarray'>\n",
      "int32\n"
     ]
    }
   ],
   "source": [
    "e=d.astype(\"int32\")\n",
    "print(e)\n",
    "print(type(e))\n",
    "print(e.dtype)"
   ]
  },
  {
   "cell_type": "code",
   "execution_count": 20,
   "metadata": {},
   "outputs": [
    {
     "name": "stdout",
     "output_type": "stream",
     "text": [
      "[0.31145458 0.51175965 0.27928466 0.76468556 0.47759405]\n",
      "[0.31 0.51 0.28 0.76 0.48]\n"
     ]
    }
   ],
   "source": [
    "import random\n",
    "x=np.array([random.random() for i in range(5)])\n",
    "print(x)\n",
    "x=np.round(x,2)\n",
    "print(x)"
   ]
  },
  {
   "cell_type": "code",
   "execution_count": 24,
   "metadata": {},
   "outputs": [
    {
     "name": "stdout",
     "output_type": "stream",
     "text": [
      "(3,)\n",
      "(2, 3)\n"
     ]
    }
   ],
   "source": [
    "a=np.array([1,2,3])\n",
    "print(a.shape)\n",
    "b=np.array([[1,2,3],[4,5,6]])\n",
    "print(b.shape)"
   ]
  },
  {
   "cell_type": "code",
   "execution_count": 33,
   "metadata": {},
   "outputs": [
    {
     "name": "stdout",
     "output_type": "stream",
     "text": [
      "[[1 2 3 4 5 6]]\n",
      "[[1]\n",
      " [2]\n",
      " [3]\n",
      " [4]\n",
      " [5]\n",
      " [6]]\n",
      "[1 2 3 4 5 6]\n",
      "[1 2 3 4 5 6]\n",
      "[[1 2 3]\n",
      " [4 5 6]]\n"
     ]
    }
   ],
   "source": [
    "print(b)\n",
    "c=b.reshape(1,6)\n",
    "print(c)\n",
    "c=b.reshape(6,1)\n",
    "print(c)\n",
    "c=b.reshape((6,))\n",
    "print(c)\n",
    "c=b.flatten()\n",
    "print(c)\n"
   ]
  },
  {
   "cell_type": "code",
   "execution_count": 34,
   "metadata": {},
   "outputs": [
    {
     "name": "stdout",
     "output_type": "stream",
     "text": [
      "[[1 2 3]\n",
      " [4 5 6]]\n",
      "[[3 4 5]\n",
      " [6 7 8]]\n",
      "[[ 2  4  6]\n",
      " [ 8 10 12]]\n",
      "[[0.5 1.  1.5]\n",
      " [2.  2.5 3. ]]\n"
     ]
    }
   ],
   "source": [
    "print(b)\n",
    "c=b+2\n",
    "print(c)\n",
    "c=b*2\n",
    "print(c)\n",
    "c=b/2\n",
    "print(c)"
   ]
  },
  {
   "cell_type": "code",
   "execution_count": 35,
   "metadata": {},
   "outputs": [
    {
     "name": "stdout",
     "output_type": "stream",
     "text": [
      "[[1 2 3]\n",
      " [4 5 6]]\n",
      "[[0 1 2]\n",
      " [3 4 5]]\n",
      "[[ 1  3  5]\n",
      " [ 7  9 11]]\n"
     ]
    }
   ],
   "source": [
    "c=np.arange(0,6).reshape(2,3)\n",
    "print(b)\n",
    "print(c)\n",
    "d=b+c\n",
    "print(d)\n"
   ]
  },
  {
   "cell_type": "code",
   "execution_count": 36,
   "metadata": {},
   "outputs": [
    {
     "name": "stdout",
     "output_type": "stream",
     "text": [
      "[[1 2 3]\n",
      " [4 5 6]]\n",
      "[0 1 2]\n",
      "[[1 3 5]\n",
      " [4 6 8]]\n"
     ]
    }
   ],
   "source": [
    "c=np.arange(0,3)\n",
    "print(b)\n",
    "print(c)\n",
    "d=b+c\n",
    "print(d)"
   ]
  },
  {
   "cell_type": "code",
   "execution_count": 38,
   "metadata": {},
   "outputs": [
    {
     "name": "stdout",
     "output_type": "stream",
     "text": [
      "[[1 2 3]\n",
      " [4 5 6]]\n",
      "[[0]\n",
      " [1]]\n",
      "[[1 2 3]\n",
      " [5 6 7]]\n"
     ]
    }
   ],
   "source": [
    "c=np.arange(0,2).reshape(2,1)\n",
    "print(b)\n",
    "print(c)\n",
    "d=b+c\n",
    "print(d)"
   ]
  },
  {
   "cell_type": "code",
   "execution_count": 4,
   "metadata": {},
   "outputs": [
    {
     "name": "stdout",
     "output_type": "stream",
     "text": [
      "[[0 1 2]\n",
      " [3 4 5]]\n",
      "[[0 3]\n",
      " [1 4]\n",
      " [2 5]]\n",
      "[[0 3]\n",
      " [1 4]\n",
      " [2 5]]\n",
      "[[0 3]\n",
      " [1 4]\n",
      " [2 5]]\n"
     ]
    }
   ],
   "source": [
    "c=np.arange(0,6).reshape(2,3)\n",
    "print(c)\n",
    "d=c.transpose()\n",
    "print(d)\n",
    "d=c.T\n",
    "print(d)\n",
    "d=c.swapaxes(1,0)\n",
    "print(d)\n"
   ]
  },
  {
   "cell_type": "code",
   "execution_count": 12,
   "metadata": {},
   "outputs": [
    {
     "name": "stdout",
     "output_type": "stream",
     "text": [
      "[[ 0  1  2  3  4  5]\n",
      " [ 6  7  8  9 10 11]\n",
      " [12 13 14 15 16 17]\n",
      " [18 19 20 21 22 23]]\n",
      "[ 6  7  8  9 10 11]\n",
      "[[ 6  7  8  9 10 11]\n",
      " [12 13 14 15 16 17]]\n",
      "[[ 6  7  8  9 10 11]\n",
      " [18 19 20 21 22 23]]\n"
     ]
    }
   ],
   "source": [
    "c=np.arange(0,24).reshape(4,6)\n",
    "print(c)\n",
    "d=c[1]\n",
    "print(d)\n",
    "d=c[1:3]\n",
    "print(d)\n",
    "d=c[[1,3]]\n",
    "print(d)"
   ]
  },
  {
   "cell_type": "code",
   "execution_count": 17,
   "metadata": {},
   "outputs": [
    {
     "name": "stdout",
     "output_type": "stream",
     "text": [
      "[[ 0  1  2  3  4  5]\n",
      " [ 6  7  8  9 10 11]\n",
      " [12 13 14 15 16 17]\n",
      " [18 19 20 21 22 23]]\n",
      "[ 6  7  8  9 10 11]\n",
      "[[12 13 14 15 16 17]\n",
      " [18 19 20 21 22 23]]\n",
      "[ 0  6 12 18]\n",
      "[[ 1  2  3]\n",
      " [ 7  8  9]\n",
      " [13 14 15]\n",
      " [19 20 21]]\n",
      "[[ 1  3  4]\n",
      " [ 7  9 10]\n",
      " [13 15 16]\n",
      " [19 21 22]]\n"
     ]
    }
   ],
   "source": [
    "c=np.arange(0,24).reshape(4,6)\n",
    "print(c)\n",
    "d=c[1,:]\n",
    "print(d)\n",
    "d=c[2:,:]\n",
    "print(d)\n",
    "d=c[:,0]\n",
    "print(d)\n",
    "d=c[:,1:4]\n",
    "print(d)\n",
    "d=c[:,[1,3,4]]\n",
    "print(d)"
   ]
  },
  {
   "cell_type": "code",
   "execution_count": 20,
   "metadata": {},
   "outputs": [
    {
     "name": "stdout",
     "output_type": "stream",
     "text": [
      "[[ 0  1  2  3  4  5]\n",
      " [ 6  7  8  9 10 11]\n",
      " [12 13 14 15 16 17]\n",
      " [18 19 20 21 22 23]]\n",
      "22\n",
      "[[ 8  9 10]\n",
      " [14 15 16]]\n",
      "[ 1 20 11]\n",
      "[[ 1  2  3]\n",
      " [ 7  8  9]\n",
      " [13 14 15]\n",
      " [19 20 21]]\n",
      "[[ 1  3  4]\n",
      " [ 7  9 10]\n",
      " [13 15 16]\n",
      " [19 21 22]]\n"
     ]
    }
   ],
   "source": [
    "c=np.arange(0,24).reshape(4,6)\n",
    "print(c)\n",
    "d=c[3,4]\n",
    "print(d)\n",
    "d=c[1:3,2:5]\n",
    "print(d)\n",
    "d=c[[0,3,1],[1,2,5]]\n",
    "print(d)\n",
    "d=c[:,1:4]\n",
    "print(d)\n",
    "d=c[:,[1,3,4]]\n",
    "print(d)"
   ]
  },
  {
   "cell_type": "code",
   "execution_count": 26,
   "metadata": {},
   "outputs": [
    {
     "name": "stdout",
     "output_type": "stream",
     "text": [
      "[[ 0  1  2  3  4  5]\n",
      " [ 6  7  8  9 10 11]\n",
      " [12 13 14 15 16 17]\n",
      " [18 19 20 21 22 23]]\n",
      "[[ 8  8  8  8  8  8]\n",
      " [ 8  8  8  8 10 11]\n",
      " [12 13 14 15 16 17]\n",
      " [18 19 20 21 22 23]]\n",
      "[[ 0  1  2  3  4  5]\n",
      " [ 6  7  8  9 10 11]\n",
      " [12 13 14 15 16 17]\n",
      " [18 19 20 21 22 23]]\n",
      "[[ 0  0  0  0  0  0]\n",
      " [ 0  0  0  0 10 10]\n",
      " [10 10 10 10 10 10]\n",
      " [10 10 10 10 10 10]]\n",
      "[[ 0  1  2  3  4  5]\n",
      " [ 6  7  8  9 10 11]\n",
      " [12 13 14 15 16 17]\n",
      " [18 19 20 21 22 23]]\n",
      "[[ 8  8  8  8  8  8]\n",
      " [ 8  8  8  9 10 11]\n",
      " [12 12 12 12 12 12]\n",
      " [12 12 12 12 12 12]]\n"
     ]
    }
   ],
   "source": [
    "c=np.arange(0,24).reshape(4,6)\n",
    "print(c)\n",
    "c[c<10]=8\n",
    "print(c)\n",
    "c=np.arange(0,24).reshape(4,6)\n",
    "print(c)\n",
    "c=np.where(c<10,0,10)\n",
    "print(c)\n",
    "c=np.arange(0,24).reshape(4,6)\n",
    "print(c)\n",
    "c=c.clip(8,12)\n",
    "print(c)"
   ]
  },
  {
   "cell_type": "code",
   "execution_count": 30,
   "metadata": {},
   "outputs": [
    {
     "data": {
      "text/plain": [
       "False"
      ]
     },
     "execution_count": 30,
     "metadata": {},
     "output_type": "execute_result"
    }
   ],
   "source": [
    "print(np.nan==np.nan)\n"
   ]
  },
  {
   "cell_type": "code",
   "execution_count": 39,
   "metadata": {},
   "outputs": [
    {
     "name": "stdout",
     "output_type": "stream",
     "text": [
      "[[ 0. nan  2.  3.  4.  5.]\n",
      " [ 6.  7.  8.  9. 10. nan]\n",
      " [12. 13. 14. 15. 16. 17.]\n",
      " [18. 19. nan 21. 22. 23.]]\n",
      "23\n",
      "3\n",
      "3\n",
      "nan\n",
      "[36. nan nan 48. 52. nan]\n"
     ]
    }
   ],
   "source": [
    "c=np.arange(0,24).reshape(4,6).astype(float)\n",
    "c[[0,3,1],[1,2,5]]=np.nan\n",
    "print(c)\n",
    "print(np.count_nonzero(c))\n",
    "print(np.count_nonzero(c!=c))\n",
    "print(np.count_nonzero(np.isnan(c)))\n",
    "print(np.sum(c))\n",
    "print(np.sum(c,axis=0))"
   ]
  },
  {
   "cell_type": "code",
   "execution_count": 44,
   "metadata": {},
   "outputs": [
    {
     "name": "stdout",
     "output_type": "stream",
     "text": [
      "[[ 0. nan  2.  3.  4.  5.]\n",
      " [ 6.  7.  8.  9. 10. nan]\n",
      " [12. 13. 14. 15. 16. 17.]\n",
      " [18. 19. nan 21. 22. 23.]]\n",
      "[[ 0. 13.  2.  3.  4.  5.]\n",
      " [ 6.  7.  8.  9. 10. 15.]\n",
      " [12. 13. 14. 15. 16. 17.]\n",
      " [18. 19.  8. 21. 22. 23.]]\n"
     ]
    }
   ],
   "source": [
    "c=np.arange(0,24).reshape(4,6).astype(float)\n",
    "c[[0,3,1],[1,2,5]]=np.nan\n",
    "print(c)\n",
    "for i in range(c.shape[1]):\n",
    "    temp_col=c[:,i]\n",
    "    num_nan=np.count_nonzero(temp_col!=temp_col)\n",
    "    if num_nan!=0:\n",
    "        not_nan=temp_col[temp_col==temp_col]\n",
    "        temp_col[temp_col!=temp_col]=not_nan.mean()\n",
    "print(c)\n",
    "        "
   ]
  },
  {
   "cell_type": "code",
   "execution_count": 46,
   "metadata": {},
   "outputs": [
    {
     "name": "stdout",
     "output_type": "stream",
     "text": [
      "[[ 0.  1.  2.  3.  4.  5.]\n",
      " [ 6.  7.  8.  9. 10. 11.]\n",
      " [12. 13. 14. 15. 16. 17.]\n",
      " [18. 19. 20. 21. 22. 23.]]\n",
      "[[ 0.  1.  2.  3.  4.  5.]\n",
      " [ 6.  7.  8.  9. 10. 11.]\n",
      " [12. 13. 14. 15. 16. 17.]\n",
      " [18. 19. 20. 21. 22. 23.]]\n",
      "[[ 0.  1.  2.  3.  4.  5.]\n",
      " [ 6.  7.  8.  9. 10. 11.]\n",
      " [12. 13. 14. 15. 16. 17.]\n",
      " [18. 19. 20. 21. 22. 23.]\n",
      " [ 0.  1.  2.  3.  4.  5.]\n",
      " [ 6.  7.  8.  9. 10. 11.]\n",
      " [12. 13. 14. 15. 16. 17.]\n",
      " [18. 19. 20. 21. 22. 23.]]\n",
      "[[ 0.  1.  2.  3.  4.  5.  0.  1.  2.  3.  4.  5.]\n",
      " [ 6.  7.  8.  9. 10. 11.  6.  7.  8.  9. 10. 11.]\n",
      " [12. 13. 14. 15. 16. 17. 12. 13. 14. 15. 16. 17.]\n",
      " [18. 19. 20. 21. 22. 23. 18. 19. 20. 21. 22. 23.]]\n"
     ]
    }
   ],
   "source": [
    "c=np.arange(0,24).reshape(4,6).astype(float)\n",
    "d=np.arange(0,24).reshape(4,6).astype(float)\n",
    "print(c)\n",
    "print(d)\n",
    "print(np.vstack((c,d)))\n",
    "print(np.hstack((c,d)))"
   ]
  },
  {
   "cell_type": "code",
   "execution_count": 49,
   "metadata": {},
   "outputs": [
    {
     "name": "stdout",
     "output_type": "stream",
     "text": [
      "[[ 0.  1.  2.  3.  4.  5.]\n",
      " [ 6.  7.  8.  9. 10. 11.]\n",
      " [12. 13. 14. 15. 16. 17.]\n",
      " [18. 19. 20. 21. 22. 23.]]\n",
      "[[ 0.  1.  2.  3.  4.  5.]\n",
      " [12. 13. 14. 15. 16. 17.]\n",
      " [ 6.  7.  8.  9. 10. 11.]\n",
      " [18. 19. 20. 21. 22. 23.]]\n",
      "[[ 0.  1.  4.  3.  2.  5.]\n",
      " [12. 13. 16. 15. 14. 17.]\n",
      " [ 6.  7. 10.  9.  8. 11.]\n",
      " [18. 19. 22. 21. 20. 23.]]\n"
     ]
    }
   ],
   "source": [
    "c=np.arange(0,24).reshape(4,6).astype(float)\n",
    "print(c)\n",
    "c[[1,2],:]=c[[2,1],:]\n",
    "print(c)\n",
    "c[:,[2,4]]=c[:,[4,2]]\n",
    "print(c)"
   ]
  }
 ],
 "metadata": {
  "kernelspec": {
   "display_name": "Python 3",
   "language": "python",
   "name": "python3"
  },
  "language_info": {
   "codemirror_mode": {
    "name": "ipython",
    "version": 3
   },
   "file_extension": ".py",
   "mimetype": "text/x-python",
   "name": "python",
   "nbconvert_exporter": "python",
   "pygments_lexer": "ipython3",
   "version": "3.8.5"
  }
 },
 "nbformat": 4,
 "nbformat_minor": 4
}
